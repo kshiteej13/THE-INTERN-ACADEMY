{
 "cells": [
  {
   "cell_type": "markdown",
   "metadata": {},
   "source": [
    "# Importing all the libraries"
   ]
  },
  {
   "cell_type": "code",
   "execution_count": 1,
   "metadata": {},
   "outputs": [],
   "source": [
    "import pandas as pd\n",
    "import numpy as np\n",
    "import pickle\n",
    "import operator"
   ]
  },
  {
   "cell_type": "markdown",
   "metadata": {},
   "source": [
    "# Pre Processing Data"
   ]
  },
  {
   "cell_type": "code",
   "execution_count": 2,
   "metadata": {},
   "outputs": [],
   "source": [
    "from sklearn.svm import SVC\n",
    "from sklearn.model_selection import train_test_split as tts\n",
    "from sklearn.feature_extraction.text import TfidfVectorizer\n",
    "from sklearn.preprocessing import LabelEncoder as LE\n",
    "from sklearn.metrics.pairwise import cosine_similarity"
   ]
  },
  {
   "cell_type": "markdown",
   "metadata": {},
   "source": [
    "# Importing random and nltk"
   ]
  },
  {
   "cell_type": "code",
   "execution_count": 3,
   "metadata": {},
   "outputs": [],
   "source": [
    "import random\n",
    "import nltk"
   ]
  },
  {
   "cell_type": "markdown",
   "metadata": {},
   "source": [
    "NLTK is a set of libraries for Natural Language Processing. It is a platform for building Python Progreams to process natural language. Mainly used for Q&A and Chatbots."
   ]
  },
  {
   "cell_type": "markdown",
   "metadata": {},
   "source": [
    "The Random module provide accesss to functions that support types of functions like choosing a random number, calls, query etc."
   ]
  },
  {
   "cell_type": "markdown",
   "metadata": {},
   "source": [
    "Stemming is a technique used to extract the base form of the words by removing affixes from them. It is just like cutting down the branches of a tree to its stems. For example, the stem of the words eating, eats, eaten is eat."
   ]
  },
  {
   "cell_type": "code",
   "execution_count": 4,
   "metadata": {},
   "outputs": [],
   "source": [
    "from nltk.stem.lancaster import LancasterStemmer\n"
   ]
  },
  {
   "cell_type": "markdown",
   "metadata": {},
   "source": [
    "NLTK has LancasterStemmer class with the help of which we can easily implement Lancaster Stemmer algorithms for the word we want to stem"
   ]
  },
  {
   "cell_type": "code",
   "execution_count": 5,
   "metadata": {},
   "outputs": [],
   "source": [
    "stemmer = LancasterStemmer()"
   ]
  },
  {
   "cell_type": "code",
   "execution_count": 6,
   "metadata": {},
   "outputs": [],
   "source": [
    "def cleanup(sentence):\n",
    "    word_tok = nltk.word_tokenize(sentence)\n",
    "    stemmed_words = [stemmer.stem(w) for w in word_tok]\n",
    "\n",
    "    return ' '.join(stemmed_words)"
   ]
  },
  {
   "cell_type": "code",
   "execution_count": 7,
   "metadata": {},
   "outputs": [],
   "source": [
    "le = LE()"
   ]
  },
  {
   "cell_type": "code",
   "execution_count": 8,
   "metadata": {},
   "outputs": [],
   "source": [
    "tfv = TfidfVectorizer(min_df=1, stop_words='english')"
   ]
  },
  {
   "cell_type": "code",
   "execution_count": 9,
   "metadata": {},
   "outputs": [],
   "source": [
    "data = pd.read_csv('https://raw.githubusercontent.com/MrJay10/banking-faq-bot/master/BankFAQs.csv')\n",
    "questions = data['Question'].values"
   ]
  },
  {
   "cell_type": "code",
   "execution_count": 15,
   "metadata": {},
   "outputs": [
    {
     "name": "stderr",
     "output_type": "stream",
     "text": [
      "[nltk_data] Downloading package punkt to\n",
      "[nltk_data]     C:\\Users\\91912\\AppData\\Roaming\\nltk_data...\n",
      "[nltk_data]   Unzipping tokenizers\\punkt.zip.\n"
     ]
    },
    {
     "data": {
      "text/plain": [
       "True"
      ]
     },
     "execution_count": 15,
     "metadata": {},
     "output_type": "execute_result"
    }
   ],
   "source": [
    "import nltk\n",
    "nltk.download('punkt')\n"
   ]
  },
  {
   "cell_type": "code",
   "execution_count": 16,
   "metadata": {},
   "outputs": [],
   "source": [
    "X = []\n",
    "for question in questions:\n",
    "    X.append(cleanup(question))"
   ]
  },
  {
   "cell_type": "code",
   "execution_count": 17,
   "metadata": {},
   "outputs": [
    {
     "data": {
      "text/plain": [
       "LabelEncoder()"
      ]
     },
     "execution_count": 17,
     "metadata": {},
     "output_type": "execute_result"
    }
   ],
   "source": [
    "tfv.fit(X)\n",
    "le.fit(data['Class'])"
   ]
  },
  {
   "cell_type": "markdown",
   "metadata": {},
   "source": [
    "# Training Data"
   ]
  },
  {
   "cell_type": "code",
   "execution_count": 18,
   "metadata": {},
   "outputs": [],
   "source": [
    "X = tfv.transform(X)\n",
    "y = le.transform(data['Class'])"
   ]
  },
  {
   "cell_type": "code",
   "execution_count": 19,
   "metadata": {},
   "outputs": [],
   "source": [
    "trainx, testx, trainy, testy = tts(X, y, test_size=.25, random_state=42)"
   ]
  },
  {
   "cell_type": "code",
   "execution_count": 20,
   "metadata": {},
   "outputs": [
    {
     "name": "stdout",
     "output_type": "stream",
     "text": [
      "SVC: 0.927437641723356\n"
     ]
    }
   ],
   "source": [
    "model = SVC(kernel='linear')\n",
    "model.fit(trainx, trainy)\n",
    "print(\"SVC:\", model.score(testx, testy))"
   ]
  },
  {
   "cell_type": "code",
   "execution_count": 29,
   "metadata": {},
   "outputs": [],
   "source": [
    "def get_max5(arr):\n",
    "    ixarr = []\n",
    "    for ix, el in enumerate(arr):\n",
    "        ixarr.append((el, ix))\n",
    "    ixarr.sort()\n",
    "\n",
    "    ixs = []\n",
    "    for i in ixarr[-5:]:\n",
    "        ixs.append(i[1])\n",
    "\n",
    "    return ixs[::-1]"
   ]
  },
  {
   "cell_type": "markdown",
   "metadata": {},
   "source": [
    "# Cahatbot for banking related queries"
   ]
  },
  {
   "cell_type": "code",
   "execution_count": null,
   "metadata": {},
   "outputs": [
    {
     "name": "stdout",
     "output_type": "stream",
     "text": [
      "PRESS Q to QUIT\n",
      "TYPE \"DEBUG\" to Display Debugging statements.\n",
      "TYPE \"STOP\" to Stop Debugging statements.\n",
      "TYPE \"TOP5\" to Display 5 most relevent results\n",
      "TYPE \"CONF\" to Display the most confident result\n",
      "\n",
      "\n",
      "Bot: Hi, Welcome to our bank!\n",
      "You: TOP5\n",
      "Will display 5 most relevent results now\n"
     ]
    }
   ],
   "source": [
    "def chat():\n",
    "    cnt = 0\n",
    "    print(\"PRESS Q to QUIT\")\n",
    "    print(\"TYPE \\\"DEBUG\\\" to Display Debugging statements.\")\n",
    "    print(\"TYPE \\\"STOP\\\" to Stop Debugging statements.\")\n",
    "    print(\"TYPE \\\"TOP5\\\" to Display 5 most relevent results\")\n",
    "    print(\"TYPE \\\"CONF\\\" to Display the most confident result\")\n",
    "    print()\n",
    "    print()\n",
    "    DEBUG = False\n",
    "    TOP5 = False\n",
    "\n",
    "    print(\"Bot: Hi, Welcome to our bank!\")\n",
    "    while True:\n",
    "        usr = input(\"You: \")\n",
    "\n",
    "        if usr.lower() == 'yes':\n",
    "            print(\"Bot: Yes!\")\n",
    "            continue\n",
    "\n",
    "        if usr.lower() == 'no':\n",
    "            print(\"Bot: No?\")\n",
    "            continue\n",
    "\n",
    "        if usr == 'DEBUG':\n",
    "            DEBUG = True\n",
    "            print(\"Debugging mode on\")\n",
    "            continue\n",
    "\n",
    "        if usr == 'STOP':\n",
    "            DEBUG = False\n",
    "            print(\"Debugging mode off\")\n",
    "            continue\n",
    "\n",
    "        if usr == 'Q':\n",
    "            print(\"Bot: It was good to be of help.\")\n",
    "            break\n",
    "\n",
    "        if usr == 'TOP5':\n",
    "            TOP5 = True\n",
    "            print(\"Will display 5 most relevent results now\")\n",
    "            continue\n",
    "\n",
    "        if usr == 'CONF':\n",
    "            TOP5 = False\n",
    "            print(\"Only the most relevent result will be displayed\")\n",
    "            continue\n",
    "\n",
    "        t_usr = tfv.transform([cleanup(usr.strip().lower())])\n",
    "        class_ = le.inverse_transform(model.predict(t_usr)[0])\n",
    "        questionset = data[data['Class']==class_]\n",
    "\n",
    "        if DEBUG:\n",
    "            print(\"Question classified under category:\", class_)\n",
    "            print(\"{} Questions belong to this class\".format(len(questionset)))\n",
    "\n",
    "        cos_sims = []\n",
    "        for question in questionset['Question']:\n",
    "            sims = cosine_similarity(tfv.transform([question]), t_usr)\n",
    "            cos_sims.append(sims)\n",
    "            \n",
    "        ind = cos_sims.index(max(cos_sims))\n",
    "\n",
    "        if DEBUG:\n",
    "            question = questionset[\"Question\"][questionset.index[ind]]\n",
    "            print(\"Assuming you asked: {}\".format(question))\n",
    "\n",
    "        if not TOP5:\n",
    "            print(\"Bot:\", data['Answer'][questionset.index[ind]])\n",
    "        else:\n",
    "            inds = get_max5(cos_sims)\n",
    "            for ix in inds:\n",
    "                print(\"Question: \"+data['Question'][questionset.index[ix]])\n",
    "                print(\"Answer: \"+data['Answer'][questionset.index[ix]])\n",
    "                print('-'*50)\n",
    "\n",
    "        print(\"\\n\"*2)\n",
    "        outcome = input(\"Was this answer helpful? Yes/No: \").lower().strip()\n",
    "        if outcome == 'yes':\n",
    "            cnt = 0\n",
    "        elif outcome == 'no':\n",
    "            inds = get_max5(cos_sims)\n",
    "            sugg_choice = input(\"Bot: Do you want me to suggest you questions ? Yes/No: \").lower()\n",
    "            if sugg_choice == 'yes':\n",
    "                q_cnt = 1\n",
    "                for ix in inds:\n",
    "                    print(q_cnt,\"Question: \"+data['Question'][questionset.index[ix]])\n",
    "                    # print(\"Answer: \"+data['Answer'][questionset.index[ix]])\n",
    "                    print('-'*50)\n",
    "                    q_cnt += 1\n",
    "                num = int(input(\"Please enter the question number you find most relevant: \"))\n",
    "                print(\"Bot: \", data['Answer'][questionset.index[inds[num-1]]])\n",
    "\n",
    "\n",
    "chat()"
   ]
  },
  {
   "cell_type": "markdown",
   "metadata": {},
   "source": [
    "# ---------------------------------------------------------------------------------------------------------------"
   ]
  },
  {
   "cell_type": "code",
   "execution_count": null,
   "metadata": {},
   "outputs": [],
   "source": []
  }
 ],
 "metadata": {
  "kernelspec": {
   "display_name": "Python 3",
   "language": "python",
   "name": "python3"
  },
  "language_info": {
   "codemirror_mode": {
    "name": "ipython",
    "version": 3
   },
   "file_extension": ".py",
   "mimetype": "text/x-python",
   "name": "python",
   "nbconvert_exporter": "python",
   "pygments_lexer": "ipython3",
   "version": "3.8.3"
  }
 },
 "nbformat": 4,
 "nbformat_minor": 4
}
